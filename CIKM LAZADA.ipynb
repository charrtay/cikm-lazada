{
 "cells": [
  {
   "cell_type": "code",
   "execution_count": 6,
   "metadata": {
    "ExecuteTime": {
     "end_time": "2017-05-04T12:05:27.658021Z",
     "start_time": "2017-05-04T20:05:27.627206+08:00"
    },
    "collapsed": true
   },
   "outputs": [],
   "source": [
    "import csv\n",
    "import re\n",
    "import os\n",
    "import numpy as np\n",
    "from sklearn.linear_model import LogisticRegression\n",
    "from sklearn.metrics import mean_squared_error\n",
    "from utils import write_submission\n",
    "\n",
    "def contains_number(s):\n",
    "    regex = re.compile(\"\\d\")\n",
    "    if regex.search(s):\n",
    "        return True\n",
    "    return False\n",
    "\n",
    "def extract_features(filename):\n",
    "    features = []\n",
    "    with open(filename, \"r\") as file:\n",
    "        reader = csv.reader(file)\n",
    "        for row in reader:\n",
    "            title = row[2]\n",
    "            ''' \n",
    "                Feel free to create your amazing features here\n",
    "                ...\n",
    "            '''\n",
    "            features.append([len(title), contains_number(title)])\n",
    "    return np.asarray(features)\n",
    "\n",
    "def write_submission(filename, predicted_results):\n",
    "    if not os.path.exists('submission'):\n",
    "        os.makedirs('submission')\n",
    "    np.savetxt('submission/' + filename, predicted_results, fmt='%.5f')\n",
    "    print(filename + ' updated!')"
   ]
  },
  {
   "cell_type": "markdown",
   "metadata": {},
   "source": [
    "# Predict Conciseness"
   ]
  },
  {
   "cell_type": "code",
   "execution_count": 8,
   "metadata": {
    "ExecuteTime": {
     "end_time": "2017-05-04T12:07:40.463949Z",
     "start_time": "2017-05-04T20:07:39.916155+08:00"
    }
   },
   "outputs": [
    {
     "name": "stdout",
     "output_type": "stream",
     "text": [
      "Model RMSE: 0.399754\n",
      "conciseness_valid.predict updated!\n"
     ]
    }
   ],
   "source": [
    "# Data loading\n",
    "X = extract_features(\"data/training/data_train.csv\")\n",
    "y = np.loadtxt(\"data/training/conciseness_train.labels\", dtype=int)\n",
    "\n",
    "# Model training\n",
    "model = LogisticRegression()\n",
    "model.fit(X, y)\n",
    "print(\"Model RMSE: %f\" % mean_squared_error(model.predict_proba(X)[:,1], y)**0.5)\n",
    "\n",
    "# Validation predicting\n",
    "X_valid = extract_features(\"data/validation/data_valid.csv\")\n",
    "predicted_results = model.predict_proba(X_valid)[:, 1]\n",
    "write_submission('conciseness_valid.predict', predicted_results)"
   ]
  },
  {
   "cell_type": "markdown",
   "metadata": {},
   "source": [
    "# Predict Clarity"
   ]
  },
  {
   "cell_type": "code",
   "execution_count": 9,
   "metadata": {
    "ExecuteTime": {
     "end_time": "2017-05-04T12:07:42.648719Z",
     "start_time": "2017-05-04T20:07:42.066142+08:00"
    }
   },
   "outputs": [
    {
     "name": "stdout",
     "output_type": "stream",
     "text": [
      "Model RMSE: 0.226208\n",
      "clarity_valid.predict updated!\n"
     ]
    }
   ],
   "source": [
    "# Data loading\n",
    "X = extract_features(\"data/training/data_train.csv\")\n",
    "y = np.loadtxt(\"data/training/clarity_train.labels\", dtype=int)\n",
    "\n",
    "# Model training\n",
    "model = LogisticRegression()\n",
    "model.fit(X, y)\n",
    "print(\"Model RMSE: %f\" % mean_squared_error(model.predict_proba(X)[:,1], y)**0.5)\n",
    "\n",
    "# Validation predicting\n",
    "X_valid = extract_features(\"data/validation/data_valid.csv\")\n",
    "predicted_results = model.predict_proba(X_valid)[:, 1]\n",
    "write_submission('clarity_valid.predict', predicted_results)"
   ]
  },
  {
   "cell_type": "markdown",
   "metadata": {},
   "source": [
    "# Test Code"
   ]
  },
  {
   "cell_type": "code",
   "execution_count": 14,
   "metadata": {
    "ExecuteTime": {
     "end_time": "2017-05-04T12:20:16.096498Z",
     "start_time": "2017-05-04T20:20:16.054361+08:00"
    }
   },
   "outputs": [
    {
     "data": {
      "text/plain": [
       "0"
      ]
     },
     "execution_count": 14,
     "metadata": {},
     "output_type": "execute_result"
    }
   ],
   "source": [
    "os.system('zip -j submission submission/*')"
   ]
  }
 ],
 "metadata": {
  "anaconda-cloud": {},
  "kernelspec": {
   "display_name": "Python [conda env:tf]",
   "language": "python",
   "name": "conda-env-tf-py"
  },
  "language_info": {
   "codemirror_mode": {
    "name": "ipython",
    "version": 2
   },
   "file_extension": ".py",
   "mimetype": "text/x-python",
   "name": "python",
   "nbconvert_exporter": "python",
   "pygments_lexer": "ipython2",
   "version": "2.7.13"
  },
  "toc": {
   "colors": {
    "hover_highlight": "#DAA520",
    "running_highlight": "#FF0000",
    "selected_highlight": "#FFD700"
   },
   "moveMenuLeft": true,
   "nav_menu": {
    "height": "67px",
    "width": "252px"
   },
   "navigate_menu": true,
   "number_sections": true,
   "sideBar": true,
   "threshold": 4,
   "toc_cell": false,
   "toc_section_display": "block",
   "toc_window_display": false
  }
 },
 "nbformat": 4,
 "nbformat_minor": 2
}
